{
 "cells": [
  {
   "cell_type": "code",
   "execution_count": 7,
   "metadata": {},
   "outputs": [
    {
     "name": "stderr",
     "output_type": "stream",
     "text": [
      "\n",
      "[notice] A new release of pip is available: 23.0.1 -> 23.1.2\n",
      "[notice] To update, run: python.exe -m pip install --upgrade pip\n"
     ]
    }
   ],
   "source": [
    "!pip install -q SpeechRecognition"
   ]
  },
  {
   "cell_type": "code",
   "execution_count": 13,
   "metadata": {},
   "outputs": [
    {
     "ename": "SyntaxError",
     "evalue": "(unicode error) 'unicodeescape' codec can't decode bytes in position 2-3: truncated \\UXXXXXXXX escape (231464440.py, line 25)",
     "output_type": "error",
     "traceback": [
      "\u001b[1;36m  Cell \u001b[1;32mIn[13], line 25\u001b[1;36m\u001b[0m\n\u001b[1;33m    model = Model(f'C:\\Users\\vinicius.vidal\\Documents\\UFG\\LIA\\Assistente de voz\\vosk-model-small-pt-0.3-20230517T124733Z-001\\vosk-model-small-pt-0.3')\u001b[0m\n\u001b[1;37m                                                                                                                                                     ^\u001b[0m\n\u001b[1;31mSyntaxError\u001b[0m\u001b[1;31m:\u001b[0m (unicode error) 'unicodeescape' codec can't decode bytes in position 2-3: truncated \\UXXXXXXXX escape\n"
     ]
    }
   ],
   "source": [
    "# Arquivo principal\n",
    "\n",
    "# Assistente online!\n",
    "\n",
    "# import speech_recognition as sr\n",
    "\n",
    "# # Criar um reconhecedor de voz\n",
    "# r = sr.Recognizer()\n",
    "\n",
    "# # Abrir o microfone para capturar áudio\n",
    "# with sr.Microphone() as source:\n",
    "#     while True:\n",
    "#         # Definir microfone como fonte de áudio\n",
    "#         audio = r.listen(source)\n",
    "#         print(r.recognize_google(audio, language='pt'))\n",
    "\n",
    "\n",
    "# Assistente offline!\n",
    "#!/usr/bin/env python3\n",
    "\n",
    "from vosk import Model, KaldiRecognizer\n",
    "import os\n",
    "import pyaudio\n",
    "\n",
    "model = Model(r'C:\\Users\\vinicius.vidal\\Documents\\UFG\\LIA\\Assistente de voz\\vosk-model-small-pt-0.3-20230517T124733Z-001\\vosk-model-small-pt-0.3')\n",
    "rec = KaldiRecognizer(model, 16000)\n",
    "\n",
    "p = pyaudio.PyAudio()\n",
    "stream = p.open(format=pyaudio.paInt16, channels=1, rate=16000, input=True, frames_per_buffer=8000)\n",
    "stream.start_stream()\n",
    "\n",
    "while True:\n",
    "    data = stream.read(4000)\n",
    "    if len(data) == 0:\n",
    "        break\n",
    "    if rec.AcceptWaveform(data):\n",
    "        print(rec.Result())\n",
    "    else:\n",
    "        print(rec.PartialResult())\n",
    "\n",
    "print(rec.FinalResult())"
   ]
  },
  {
   "cell_type": "code",
   "execution_count": null,
   "metadata": {},
   "outputs": [],
   "source": []
  }
 ],
 "metadata": {
  "kernelspec": {
   "display_name": "Python 3",
   "language": "python",
   "name": "python3"
  },
  "language_info": {
   "codemirror_mode": {
    "name": "ipython",
    "version": 3
   },
   "file_extension": ".py",
   "mimetype": "text/x-python",
   "name": "python",
   "nbconvert_exporter": "python",
   "pygments_lexer": "ipython3",
   "version": "3.11.2"
  },
  "orig_nbformat": 4
 },
 "nbformat": 4,
 "nbformat_minor": 2
}
