{
  "cells": [
    {
      "cell_type": "markdown",
      "metadata": {
        "id": "nMUp4-sW_fBq"
      },
      "source": [
        "<hr style=\"height:10px\"> \n",
        " \n",
        "<div class='container2'>\n",
        "\t\t<div>\n",
        "\t\t\t<img src='https://github.com/garedo/lia1-2023-1/blob/main/images/header.png?raw=1' ALIGN='left' style='width:10em'>\n",
        "\t\t</div>\t\n",
        "\t<div style='padding: 0 7em 2em 12em;'>\n",
        "\t<h1>Laboratório de Inovação e Automação 1 (LIA 1)</h1>\n",
        "\t<div style=\"font-size:12pt;float:left;\"> 2023/1 | 46M34 | Sala 200 CAE</div><br><br>\n",
        "    <div style=\"font-size:12pt;float:left;\"><b>Projetos de Inteligência Artificial</b></div>\n",
        "\t</div>\n",
        "</div>\n",
        "\n",
        "\n",
        " <hr style=\"height:5px\"> \n",
        "\n",
        "    \n",
        "<h2>Aula 5 - Preparação e Análise de Dados</h2>\n",
        "\n",
        "Notebook desenvolvido por: <a href=\"http://lattes.cnpq.br/1346824250595330\">Prof. Dr. Adriano C. Santana</a>\n",
        "\n",
        " <hr style=\"height:2px\"> \n"
      ]
    },
    {
      "cell_type": "code",
      "execution_count": 1,
      "metadata": {
        "id": "ly2YsfC8_fBt",
        "outputId": "ad20577b-13eb-4e5b-ee88-f1b29a05ffa5",
        "colab": {
          "base_uri": "https://localhost:8080/"
        }
      },
      "outputs": [
        {
          "output_type": "stream",
          "name": "stdout",
          "text": [
            "A versão da linguagem Python usada neste projeto é a 3.10.11!\n"
          ]
        }
      ],
      "source": [
        "# Confirmar a versão da Linguagem Python instalada\n",
        "from platform import python_version\n",
        "print(f'A versão da linguagem Python usada neste projeto é a {python_version()}!')"
      ]
    },
    {
      "cell_type": "code",
      "execution_count": 2,
      "metadata": {
        "scrolled": true,
        "id": "Upn1UFhd_fBu",
        "outputId": "b3b754dc-0f1c-428c-8203-8113003c3b57",
        "colab": {
          "base_uri": "https://localhost:8080/"
        }
      },
      "outputs": [
        {
          "output_type": "stream",
          "name": "stdout",
          "text": [
            "Bye bye, World!\n"
          ]
        }
      ],
      "source": [
        "# Verificar se o Python está funcionando\n",
        "print('Bye bye, World!')"
      ]
    },
    {
      "cell_type": "markdown",
      "metadata": {
        "id": "j1jEBcb2_fBu"
      },
      "source": [
        "---\n",
        "## 1. Bibliotecas Necessárias para o Notebook (Aula)\n",
        "\n",
        "Para este notebook, deve ser utilizada a mesma versão apresentada pelo professor da disciplina.\n",
        "\n",
        "* [`matplotlib`](https://matplotlib.org/): construção e exibição de gráficos genéricos.\n",
        "* [`seaborn`](https://seaborn.pydata.org/): construção e exibição de gráficos específicos/estatísticas.\n",
        "* [`numpy`](https://numpy.org): manipulação de dados em formato de vetores e matrizes.\n",
        "* [`pandas`](https://pandas.pydata.org/pandas-docs/stable/index.html): manipulação de dados em formato de tabelas."
      ]
    },
    {
      "cell_type": "markdown",
      "metadata": {
        "id": "1LU5inkP_fBv"
      },
      "source": [
        "---\n",
        "## 2. Carregar e Exibir os Dados da Fonte\n",
        "\n",
        "Primeiro, vamos importar todas as bibliotecas que serão utilizadas no projeto."
      ]
    },
    {
      "cell_type": "code",
      "execution_count": 3,
      "metadata": {
        "id": "3JpNTHaE_fBv",
        "outputId": "ed7ae00e-2e8f-49a3-e94d-bfb114aa29aa",
        "colab": {
          "base_uri": "https://localhost:8080/"
        }
      },
      "outputs": [
        {
          "output_type": "stream",
          "name": "stdout",
          "text": [
            "Bibliotecas carregadas com sucesso!\n"
          ]
        }
      ],
      "source": [
        "# importar a biblioteca - Todos os projetos passarão pelo Numpy!\n",
        "import numpy as np\n",
        "\n",
        "# importar a biblioteca - Excel do Python!\n",
        "import pandas as pd \n",
        "\n",
        "# importar as bibliotecas - Visualizar dados!\n",
        "import seaborn as sns\n",
        "import matplotlib.pyplot as plt\n",
        "\n",
        "print('Bibliotecas carregadas com sucesso!')\n",
        "\n",
        "# Instalação silenciosa\n",
        "#!pip install -q numpy"
      ]
    },
    {
      "cell_type": "markdown",
      "metadata": {
        "id": "NqOGr9nb_fBv"
      },
      "source": [
        "---\n",
        "## 3. Introdução ao Dados\n",
        "\n",
        "A cada dia, uma enorme quantidade de dados é gerada de diferentes fontes. Um conjunto de dados é formado por objetos que representam algo físico (cadeira) ou abstrato (diagnóstico), sendo descrito por seus atributos. Deve-se realizar a caracterização dos dados e a exploração inicial com estatística e visualização básicas, conhecido como pré-processamento.\n",
        "\n",
        "O pré-processamento pode demandar tarefas de integração, eliminação manual, amostragem, balanceamento, limpeza, redução da dimensionalidade, transformação de dados etc., estando essas tarefas associadas à Mineração de Dados (MD), a qual foca no processo em si, em como realizar essas tarefas.\n",
        "\n",
        "A MD busca extrair conhecimento novo, útil e relevante, gerando as bases para a Ciência de Dados (CD), a qual foca no impacto e na relevância do conhecimento.\n",
        "\n",
        "#### Em resumo, MD (processo) e CD (dados)!"
      ]
    },
    {
      "cell_type": "markdown",
      "metadata": {
        "id": "vg4qzsKV_fBw"
      },
      "source": [
        "---\n",
        "## Caracterização de dados\n",
        "\n",
        "Considere o conjunto de dados provenientes de pacientes de um hospital, denominado `hospital`."
      ]
    },
    {
      "cell_type": "code",
      "execution_count": 4,
      "metadata": {
        "id": "2sUAL9vL_fBw",
        "outputId": "a83ba47f-007f-4b25-bf10-4cfe957cd6fe",
        "colab": {
          "base_uri": "https://localhost:8080/"
        }
      },
      "outputs": [
        {
          "output_type": "stream",
          "name": "stdout",
          "text": [
            "Dados importados com sucesso!\n"
          ]
        }
      ],
      "source": [
        "# importar o arquivo e guarda em um dataframe do Pandas\n",
        "df_dataset = pd.read_csv ( 'https://raw.githubusercontent.com/garedo/lia1-2023-1/main/hospital.csv', sep=',', index_col=None)\n",
        "\n",
        "print('Dados importados com sucesso!')"
      ]
    },
    {
      "cell_type": "code",
      "execution_count": 5,
      "metadata": {
        "scrolled": false,
        "id": "XbFjEhGp_fBw",
        "outputId": "471dbb4e-1c1a-480a-aeec-4145742c311d",
        "colab": {
          "base_uri": "https://localhost:8080/",
          "height": 206
        }
      },
      "outputs": [
        {
          "output_type": "display_data",
          "data": {
            "text/plain": [
              "   Identificação     Nome  Idade Sexo  Peso       Manchas  Temperatura  \\\n",
              "0           4201     João     28    M    79  Concentradas         38.0   \n",
              "1           3217    Maria     18    F    67  Inexistentes         39.5   \n",
              "2           4039     Luiz     49    M    92    Espalhadas         38.0   \n",
              "3           1920     José     18    M    43  Inexistentes         38.5   \n",
              "4           4340  Cláudia     21    F    52     Uniformes         37.6   \n",
              "\n",
              "   Internação Estado       Time Diagnóstico  \n",
              "0           2     SP  Palmeiras      Doente  \n",
              "1           4     MG   Cruzeiro      Doente  \n",
              "2           2     RS     Grêmio    Saudável  \n",
              "3           8     MG   Atlético      Doente  \n",
              "4           1     PE      Sport    Saudável  "
            ],
            "text/html": [
              "\n",
              "  <div id=\"df-18748788-4f46-484b-9355-6f025d0394af\">\n",
              "    <div class=\"colab-df-container\">\n",
              "      <div>\n",
              "<style scoped>\n",
              "    .dataframe tbody tr th:only-of-type {\n",
              "        vertical-align: middle;\n",
              "    }\n",
              "\n",
              "    .dataframe tbody tr th {\n",
              "        vertical-align: top;\n",
              "    }\n",
              "\n",
              "    .dataframe thead th {\n",
              "        text-align: right;\n",
              "    }\n",
              "</style>\n",
              "<table border=\"1\" class=\"dataframe\">\n",
              "  <thead>\n",
              "    <tr style=\"text-align: right;\">\n",
              "      <th></th>\n",
              "      <th>Identificação</th>\n",
              "      <th>Nome</th>\n",
              "      <th>Idade</th>\n",
              "      <th>Sexo</th>\n",
              "      <th>Peso</th>\n",
              "      <th>Manchas</th>\n",
              "      <th>Temperatura</th>\n",
              "      <th>Internação</th>\n",
              "      <th>Estado</th>\n",
              "      <th>Time</th>\n",
              "      <th>Diagnóstico</th>\n",
              "    </tr>\n",
              "  </thead>\n",
              "  <tbody>\n",
              "    <tr>\n",
              "      <th>0</th>\n",
              "      <td>4201</td>\n",
              "      <td>João</td>\n",
              "      <td>28</td>\n",
              "      <td>M</td>\n",
              "      <td>79</td>\n",
              "      <td>Concentradas</td>\n",
              "      <td>38.0</td>\n",
              "      <td>2</td>\n",
              "      <td>SP</td>\n",
              "      <td>Palmeiras</td>\n",
              "      <td>Doente</td>\n",
              "    </tr>\n",
              "    <tr>\n",
              "      <th>1</th>\n",
              "      <td>3217</td>\n",
              "      <td>Maria</td>\n",
              "      <td>18</td>\n",
              "      <td>F</td>\n",
              "      <td>67</td>\n",
              "      <td>Inexistentes</td>\n",
              "      <td>39.5</td>\n",
              "      <td>4</td>\n",
              "      <td>MG</td>\n",
              "      <td>Cruzeiro</td>\n",
              "      <td>Doente</td>\n",
              "    </tr>\n",
              "    <tr>\n",
              "      <th>2</th>\n",
              "      <td>4039</td>\n",
              "      <td>Luiz</td>\n",
              "      <td>49</td>\n",
              "      <td>M</td>\n",
              "      <td>92</td>\n",
              "      <td>Espalhadas</td>\n",
              "      <td>38.0</td>\n",
              "      <td>2</td>\n",
              "      <td>RS</td>\n",
              "      <td>Grêmio</td>\n",
              "      <td>Saudável</td>\n",
              "    </tr>\n",
              "    <tr>\n",
              "      <th>3</th>\n",
              "      <td>1920</td>\n",
              "      <td>José</td>\n",
              "      <td>18</td>\n",
              "      <td>M</td>\n",
              "      <td>43</td>\n",
              "      <td>Inexistentes</td>\n",
              "      <td>38.5</td>\n",
              "      <td>8</td>\n",
              "      <td>MG</td>\n",
              "      <td>Atlético</td>\n",
              "      <td>Doente</td>\n",
              "    </tr>\n",
              "    <tr>\n",
              "      <th>4</th>\n",
              "      <td>4340</td>\n",
              "      <td>Cláudia</td>\n",
              "      <td>21</td>\n",
              "      <td>F</td>\n",
              "      <td>52</td>\n",
              "      <td>Uniformes</td>\n",
              "      <td>37.6</td>\n",
              "      <td>1</td>\n",
              "      <td>PE</td>\n",
              "      <td>Sport</td>\n",
              "      <td>Saudável</td>\n",
              "    </tr>\n",
              "  </tbody>\n",
              "</table>\n",
              "</div>\n",
              "      <button class=\"colab-df-convert\" onclick=\"convertToInteractive('df-18748788-4f46-484b-9355-6f025d0394af')\"\n",
              "              title=\"Convert this dataframe to an interactive table.\"\n",
              "              style=\"display:none;\">\n",
              "        \n",
              "  <svg xmlns=\"http://www.w3.org/2000/svg\" height=\"24px\"viewBox=\"0 0 24 24\"\n",
              "       width=\"24px\">\n",
              "    <path d=\"M0 0h24v24H0V0z\" fill=\"none\"/>\n",
              "    <path d=\"M18.56 5.44l.94 2.06.94-2.06 2.06-.94-2.06-.94-.94-2.06-.94 2.06-2.06.94zm-11 1L8.5 8.5l.94-2.06 2.06-.94-2.06-.94L8.5 2.5l-.94 2.06-2.06.94zm10 10l.94 2.06.94-2.06 2.06-.94-2.06-.94-.94-2.06-.94 2.06-2.06.94z\"/><path d=\"M17.41 7.96l-1.37-1.37c-.4-.4-.92-.59-1.43-.59-.52 0-1.04.2-1.43.59L10.3 9.45l-7.72 7.72c-.78.78-.78 2.05 0 2.83L4 21.41c.39.39.9.59 1.41.59.51 0 1.02-.2 1.41-.59l7.78-7.78 2.81-2.81c.8-.78.8-2.07 0-2.86zM5.41 20L4 18.59l7.72-7.72 1.47 1.35L5.41 20z\"/>\n",
              "  </svg>\n",
              "      </button>\n",
              "      \n",
              "  <style>\n",
              "    .colab-df-container {\n",
              "      display:flex;\n",
              "      flex-wrap:wrap;\n",
              "      gap: 12px;\n",
              "    }\n",
              "\n",
              "    .colab-df-convert {\n",
              "      background-color: #E8F0FE;\n",
              "      border: none;\n",
              "      border-radius: 50%;\n",
              "      cursor: pointer;\n",
              "      display: none;\n",
              "      fill: #1967D2;\n",
              "      height: 32px;\n",
              "      padding: 0 0 0 0;\n",
              "      width: 32px;\n",
              "    }\n",
              "\n",
              "    .colab-df-convert:hover {\n",
              "      background-color: #E2EBFA;\n",
              "      box-shadow: 0px 1px 2px rgba(60, 64, 67, 0.3), 0px 1px 3px 1px rgba(60, 64, 67, 0.15);\n",
              "      fill: #174EA6;\n",
              "    }\n",
              "\n",
              "    [theme=dark] .colab-df-convert {\n",
              "      background-color: #3B4455;\n",
              "      fill: #D2E3FC;\n",
              "    }\n",
              "\n",
              "    [theme=dark] .colab-df-convert:hover {\n",
              "      background-color: #434B5C;\n",
              "      box-shadow: 0px 1px 3px 1px rgba(0, 0, 0, 0.15);\n",
              "      filter: drop-shadow(0px 1px 2px rgba(0, 0, 0, 0.3));\n",
              "      fill: #FFFFFF;\n",
              "    }\n",
              "  </style>\n",
              "\n",
              "      <script>\n",
              "        const buttonEl =\n",
              "          document.querySelector('#df-18748788-4f46-484b-9355-6f025d0394af button.colab-df-convert');\n",
              "        buttonEl.style.display =\n",
              "          google.colab.kernel.accessAllowed ? 'block' : 'none';\n",
              "\n",
              "        async function convertToInteractive(key) {\n",
              "          const element = document.querySelector('#df-18748788-4f46-484b-9355-6f025d0394af');\n",
              "          const dataTable =\n",
              "            await google.colab.kernel.invokeFunction('convertToInteractive',\n",
              "                                                     [key], {});\n",
              "          if (!dataTable) return;\n",
              "\n",
              "          const docLinkHtml = 'Like what you see? Visit the ' +\n",
              "            '<a target=\"_blank\" href=https://colab.research.google.com/notebooks/data_table.ipynb>data table notebook</a>'\n",
              "            + ' to learn more about interactive tables.';\n",
              "          element.innerHTML = '';\n",
              "          dataTable['output_type'] = 'display_data';\n",
              "          await google.colab.output.renderOutput(dataTable, element);\n",
              "          const docLink = document.createElement('div');\n",
              "          docLink.innerHTML = docLinkHtml;\n",
              "          element.appendChild(docLink);\n",
              "        }\n",
              "      </script>\n",
              "    </div>\n",
              "  </div>\n",
              "  "
            ]
          },
          "metadata": {}
        }
      ],
      "source": [
        "# exibir uma amostra do dataframe\n",
        "display(df_dataset.head())"
      ]
    },
    {
      "cell_type": "code",
      "execution_count": 6,
      "metadata": {
        "scrolled": true,
        "id": "Av1Zx2Mc_fBx",
        "outputId": "d7482863-ea18-46cd-bdc5-df610de691a8",
        "colab": {
          "base_uri": "https://localhost:8080/",
          "height": 300
        }
      },
      "outputs": [
        {
          "output_type": "display_data",
          "data": {
            "text/plain": [
              "   Identificação     Nome  Idade Sexo  Peso       Manchas  Temperatura  \\\n",
              "0           4201     João     28    M    79  Concentradas         38.0   \n",
              "1           3217    Maria     18    F    67  Inexistentes         39.5   \n",
              "2           4039     Luiz     49    M    92    Espalhadas         38.0   \n",
              "3           1920     José     18    M    43  Inexistentes         38.5   \n",
              "4           4340  Cláudia     21    F    52     Uniformes         37.6   \n",
              "5           2301      Ana     22    F    72  Inexistentes         38.0   \n",
              "6           1322    Marta     19    F    87    Espalhadas         39.0   \n",
              "7           3027    Paulo     34    M    67     Uniformes         38.4   \n",
              "\n",
              "   Internação Estado       Time Diagnóstico  \n",
              "0           2     SP  Palmeiras      Doente  \n",
              "1           4     MG   Cruzeiro      Doente  \n",
              "2           2     RS     Grêmio    Saudável  \n",
              "3           8     MG   Atlético      Doente  \n",
              "4           1     PE      Sport    Saudável  \n",
              "5           3     RJ   Botafogo      Doente  \n",
              "6           6     AM   Flamengo      Doente  \n",
              "7           2     GO  Vila Nova    Saudável  "
            ],
            "text/html": [
              "\n",
              "  <div id=\"df-08884bad-7882-4ed3-ad93-025fdef46c20\">\n",
              "    <div class=\"colab-df-container\">\n",
              "      <div>\n",
              "<style scoped>\n",
              "    .dataframe tbody tr th:only-of-type {\n",
              "        vertical-align: middle;\n",
              "    }\n",
              "\n",
              "    .dataframe tbody tr th {\n",
              "        vertical-align: top;\n",
              "    }\n",
              "\n",
              "    .dataframe thead th {\n",
              "        text-align: right;\n",
              "    }\n",
              "</style>\n",
              "<table border=\"1\" class=\"dataframe\">\n",
              "  <thead>\n",
              "    <tr style=\"text-align: right;\">\n",
              "      <th></th>\n",
              "      <th>Identificação</th>\n",
              "      <th>Nome</th>\n",
              "      <th>Idade</th>\n",
              "      <th>Sexo</th>\n",
              "      <th>Peso</th>\n",
              "      <th>Manchas</th>\n",
              "      <th>Temperatura</th>\n",
              "      <th>Internação</th>\n",
              "      <th>Estado</th>\n",
              "      <th>Time</th>\n",
              "      <th>Diagnóstico</th>\n",
              "    </tr>\n",
              "  </thead>\n",
              "  <tbody>\n",
              "    <tr>\n",
              "      <th>0</th>\n",
              "      <td>4201</td>\n",
              "      <td>João</td>\n",
              "      <td>28</td>\n",
              "      <td>M</td>\n",
              "      <td>79</td>\n",
              "      <td>Concentradas</td>\n",
              "      <td>38.0</td>\n",
              "      <td>2</td>\n",
              "      <td>SP</td>\n",
              "      <td>Palmeiras</td>\n",
              "      <td>Doente</td>\n",
              "    </tr>\n",
              "    <tr>\n",
              "      <th>1</th>\n",
              "      <td>3217</td>\n",
              "      <td>Maria</td>\n",
              "      <td>18</td>\n",
              "      <td>F</td>\n",
              "      <td>67</td>\n",
              "      <td>Inexistentes</td>\n",
              "      <td>39.5</td>\n",
              "      <td>4</td>\n",
              "      <td>MG</td>\n",
              "      <td>Cruzeiro</td>\n",
              "      <td>Doente</td>\n",
              "    </tr>\n",
              "    <tr>\n",
              "      <th>2</th>\n",
              "      <td>4039</td>\n",
              "      <td>Luiz</td>\n",
              "      <td>49</td>\n",
              "      <td>M</td>\n",
              "      <td>92</td>\n",
              "      <td>Espalhadas</td>\n",
              "      <td>38.0</td>\n",
              "      <td>2</td>\n",
              "      <td>RS</td>\n",
              "      <td>Grêmio</td>\n",
              "      <td>Saudável</td>\n",
              "    </tr>\n",
              "    <tr>\n",
              "      <th>3</th>\n",
              "      <td>1920</td>\n",
              "      <td>José</td>\n",
              "      <td>18</td>\n",
              "      <td>M</td>\n",
              "      <td>43</td>\n",
              "      <td>Inexistentes</td>\n",
              "      <td>38.5</td>\n",
              "      <td>8</td>\n",
              "      <td>MG</td>\n",
              "      <td>Atlético</td>\n",
              "      <td>Doente</td>\n",
              "    </tr>\n",
              "    <tr>\n",
              "      <th>4</th>\n",
              "      <td>4340</td>\n",
              "      <td>Cláudia</td>\n",
              "      <td>21</td>\n",
              "      <td>F</td>\n",
              "      <td>52</td>\n",
              "      <td>Uniformes</td>\n",
              "      <td>37.6</td>\n",
              "      <td>1</td>\n",
              "      <td>PE</td>\n",
              "      <td>Sport</td>\n",
              "      <td>Saudável</td>\n",
              "    </tr>\n",
              "    <tr>\n",
              "      <th>5</th>\n",
              "      <td>2301</td>\n",
              "      <td>Ana</td>\n",
              "      <td>22</td>\n",
              "      <td>F</td>\n",
              "      <td>72</td>\n",
              "      <td>Inexistentes</td>\n",
              "      <td>38.0</td>\n",
              "      <td>3</td>\n",
              "      <td>RJ</td>\n",
              "      <td>Botafogo</td>\n",
              "      <td>Doente</td>\n",
              "    </tr>\n",
              "    <tr>\n",
              "      <th>6</th>\n",
              "      <td>1322</td>\n",
              "      <td>Marta</td>\n",
              "      <td>19</td>\n",
              "      <td>F</td>\n",
              "      <td>87</td>\n",
              "      <td>Espalhadas</td>\n",
              "      <td>39.0</td>\n",
              "      <td>6</td>\n",
              "      <td>AM</td>\n",
              "      <td>Flamengo</td>\n",
              "      <td>Doente</td>\n",
              "    </tr>\n",
              "    <tr>\n",
              "      <th>7</th>\n",
              "      <td>3027</td>\n",
              "      <td>Paulo</td>\n",
              "      <td>34</td>\n",
              "      <td>M</td>\n",
              "      <td>67</td>\n",
              "      <td>Uniformes</td>\n",
              "      <td>38.4</td>\n",
              "      <td>2</td>\n",
              "      <td>GO</td>\n",
              "      <td>Vila Nova</td>\n",
              "      <td>Saudável</td>\n",
              "    </tr>\n",
              "  </tbody>\n",
              "</table>\n",
              "</div>\n",
              "      <button class=\"colab-df-convert\" onclick=\"convertToInteractive('df-08884bad-7882-4ed3-ad93-025fdef46c20')\"\n",
              "              title=\"Convert this dataframe to an interactive table.\"\n",
              "              style=\"display:none;\">\n",
              "        \n",
              "  <svg xmlns=\"http://www.w3.org/2000/svg\" height=\"24px\"viewBox=\"0 0 24 24\"\n",
              "       width=\"24px\">\n",
              "    <path d=\"M0 0h24v24H0V0z\" fill=\"none\"/>\n",
              "    <path d=\"M18.56 5.44l.94 2.06.94-2.06 2.06-.94-2.06-.94-.94-2.06-.94 2.06-2.06.94zm-11 1L8.5 8.5l.94-2.06 2.06-.94-2.06-.94L8.5 2.5l-.94 2.06-2.06.94zm10 10l.94 2.06.94-2.06 2.06-.94-2.06-.94-.94-2.06-.94 2.06-2.06.94z\"/><path d=\"M17.41 7.96l-1.37-1.37c-.4-.4-.92-.59-1.43-.59-.52 0-1.04.2-1.43.59L10.3 9.45l-7.72 7.72c-.78.78-.78 2.05 0 2.83L4 21.41c.39.39.9.59 1.41.59.51 0 1.02-.2 1.41-.59l7.78-7.78 2.81-2.81c.8-.78.8-2.07 0-2.86zM5.41 20L4 18.59l7.72-7.72 1.47 1.35L5.41 20z\"/>\n",
              "  </svg>\n",
              "      </button>\n",
              "      \n",
              "  <style>\n",
              "    .colab-df-container {\n",
              "      display:flex;\n",
              "      flex-wrap:wrap;\n",
              "      gap: 12px;\n",
              "    }\n",
              "\n",
              "    .colab-df-convert {\n",
              "      background-color: #E8F0FE;\n",
              "      border: none;\n",
              "      border-radius: 50%;\n",
              "      cursor: pointer;\n",
              "      display: none;\n",
              "      fill: #1967D2;\n",
              "      height: 32px;\n",
              "      padding: 0 0 0 0;\n",
              "      width: 32px;\n",
              "    }\n",
              "\n",
              "    .colab-df-convert:hover {\n",
              "      background-color: #E2EBFA;\n",
              "      box-shadow: 0px 1px 2px rgba(60, 64, 67, 0.3), 0px 1px 3px 1px rgba(60, 64, 67, 0.15);\n",
              "      fill: #174EA6;\n",
              "    }\n",
              "\n",
              "    [theme=dark] .colab-df-convert {\n",
              "      background-color: #3B4455;\n",
              "      fill: #D2E3FC;\n",
              "    }\n",
              "\n",
              "    [theme=dark] .colab-df-convert:hover {\n",
              "      background-color: #434B5C;\n",
              "      box-shadow: 0px 1px 3px 1px rgba(0, 0, 0, 0.15);\n",
              "      filter: drop-shadow(0px 1px 2px rgba(0, 0, 0, 0.3));\n",
              "      fill: #FFFFFF;\n",
              "    }\n",
              "  </style>\n",
              "\n",
              "      <script>\n",
              "        const buttonEl =\n",
              "          document.querySelector('#df-08884bad-7882-4ed3-ad93-025fdef46c20 button.colab-df-convert');\n",
              "        buttonEl.style.display =\n",
              "          google.colab.kernel.accessAllowed ? 'block' : 'none';\n",
              "\n",
              "        async function convertToInteractive(key) {\n",
              "          const element = document.querySelector('#df-08884bad-7882-4ed3-ad93-025fdef46c20');\n",
              "          const dataTable =\n",
              "            await google.colab.kernel.invokeFunction('convertToInteractive',\n",
              "                                                     [key], {});\n",
              "          if (!dataTable) return;\n",
              "\n",
              "          const docLinkHtml = 'Like what you see? Visit the ' +\n",
              "            '<a target=\"_blank\" href=https://colab.research.google.com/notebooks/data_table.ipynb>data table notebook</a>'\n",
              "            + ' to learn more about interactive tables.';\n",
              "          element.innerHTML = '';\n",
              "          dataTable['output_type'] = 'display_data';\n",
              "          await google.colab.output.renderOutput(dataTable, element);\n",
              "          const docLink = document.createElement('div');\n",
              "          docLink.innerHTML = docLinkHtml;\n",
              "          element.appendChild(docLink);\n",
              "        }\n",
              "      </script>\n",
              "    </div>\n",
              "  </div>\n",
              "  "
            ]
          },
          "metadata": {}
        }
      ],
      "source": [
        "# exibir todo dataframe\n",
        "display(df_dataset.head(n=8))"
      ]
    },
    {
      "cell_type": "markdown",
      "metadata": {
        "id": "GJWndhOH_fBx"
      },
      "source": [
        "Cada objeto corresponde a um paciente, sendo formado pelos atributos de entrada referentes ao paciente. \n",
        "\n",
        "Os atributos (identificação; nome; idade; sexo; peso; internação; estado; time; sintomas e resultados clínicos. Os sintomas são (manchas; e temperatura). O atributo alvo: `diagnóstico`. *Esse atributo alvo é necessário em tarefas preditivas. Em tarefas descritivas é desnecessário!*"
      ]
    },
    {
      "cell_type": "code",
      "execution_count": 7,
      "metadata": {
        "id": "mfaHdGzc_fBx",
        "outputId": "e1abf299-6880-4ad4-f86c-1d2c9e67b4a8",
        "colab": {
          "base_uri": "https://localhost:8080/",
          "height": 423
        }
      },
      "outputs": [
        {
          "output_type": "execute_result",
          "data": {
            "text/plain": [
              "<Axes: ylabel='Internação'>"
            ]
          },
          "metadata": {},
          "execution_count": 7
        },
        {
          "output_type": "display_data",
          "data": {
            "text/plain": [
              "<Figure size 640x480 with 1 Axes>"
            ],
            "image/png": "[encoded data removed]"
          },
          "metadata": {}
        }
      ],
      "source": [
        "df_dataset.groupby('Diagnóstico').count().plot.pie(y = 'Internação')"
      ]
    },
    {
      "cell_type": "code",
      "source": [
        "df_dataset.groupby('Diagnóstico').count().plot.bar(y = 'Internação')"
      ],
      "metadata": {
        "id": "bhpCAY7jAP0U",
        "outputId": "d9b7ba2e-fe97-4b07-de62-052ec1f79734",
        "colab": {
          "base_uri": "https://localhost:8080/",
          "height": 517
        }
      },
      "execution_count": 11,
      "outputs": [
        {
          "output_type": "execute_result",
          "data": {
            "text/plain": [
              "<Axes: xlabel='Diagnóstico'>"
            ]
          },
          "metadata": {},
          "execution_count": 11
        },
        {
          "output_type": "display_data",
          "data": {
            "text/plain": [
              "<Figure size 640x480 with 1 Axes>"
            ],
            "image/png": "[encoded data removed]"
          },
          "metadata": {}
        }
      ]
    },
    {
      "cell_type": "code",
      "source": [
        "genero =  df_dataset.groupby(['Diagnóstico', 'Sexo']).size()\n",
        "\n",
        "diag = df_dataset['Diagnóstico'].value_counts().keys()\n",
        "sex_counts = {\n",
        "    'Homem': np.array([genero['Doente', 'M'], genero['Saudável', 'M']]),\n",
        "    'Mulher': np.array([genero['Doente', 'F'], genero['Saudável', 'F']]),\n",
        "}\n",
        "width = 0.6\n",
        "\n",
        "\n",
        "fig, ax = plt.subplots()\n",
        "bottom = np.zeros(2)\n",
        "\n",
        "for sex, sex_count in sex_counts.items():\n",
        "    p = ax.bar(diag, sex_count, width, label=sex, bottom=bottom)\n",
        "    bottom += sex_count\n",
        "\n",
        "    ax.bar_label(p, label_type='center')\n",
        "\n",
        "ax.set_title('Diagnóstico por sexo')\n",
        "ax.legend()\n",
        "\n",
        "plt.show()"
      ],
      "metadata": {
        "id": "YW6SRgrp_37e",
        "outputId": "3482239c-98f9-41e9-fe67-3cf6f93f3555",
        "colab": {
          "base_uri": "https://localhost:8080/",
          "height": 453
        }
      },
      "execution_count": 12,
      "outputs": [
        {
          "output_type": "display_data",
          "data": {
            "text/plain": [
              "<Figure size 640x480 with 1 Axes>"
            ],
            "image/png": "[encoded data removed]"
          },
          "metadata": {}
        }
      ]
    },
    {
      "cell_type": "code",
      "source": [
        "sns.set_theme(style=\"ticks\")\n",
        "\n",
        "# Initialize the figure with a logarithmic x axis\n",
        "f, ax = plt.subplots(figsize=(7, 6))\n",
        "x = df_dataset['Sexo'].value_counts().keys().tolist()\n",
        "y = df_dataset['Sexo'].value_counts().tolist()\n",
        "\n",
        "# Plot the orbital period with horizontal boxes\n",
        "sns.boxplot(x=x, y=y, data=df_dataset,\n",
        "            whis=[0, 100], width=.6, palette=\"vlag\")\n",
        "\n",
        "\n",
        "# Tweak the visual presentation\n",
        "ax.xaxis.grid(True)\n",
        "ax.set(ylabel=\"QTD\", xlabel='Sexo')"
      ],
      "metadata": {
        "id": "LAwk-O5ZAWPS",
        "outputId": "6b9c4e54-ae04-451a-fc58-9af03cb634cb",
        "colab": {
          "base_uri": "https://localhost:8080/",
          "height": 567
        }
      },
      "execution_count": 16,
      "outputs": [
        {
          "output_type": "execute_result",
          "data": {
            "text/plain": [
              "[Text(0, 0.5, 'QTD'), Text(0.5, 0, 'Sexo')]"
            ]
          },
          "metadata": {},
          "execution_count": 16
        },
        {
          "output_type": "display_data",
          "data": {
            "text/plain": [
              "<Figure size 700x600 with 1 Axes>"
            ],
            "image/png": "[encoded data removed]"
          },
          "metadata": {}
        }
      ]
    },
    {
      "cell_type": "code",
      "source": [
        "y1"
      ],
      "metadata": {
        "id": "l3C_CK9YBfxo",
        "outputId": "db404f44-5683-4b36-a9a9-dea8e6a3720a",
        "colab": {
          "base_uri": "https://localhost:8080/"
        }
      },
      "execution_count": 26,
      "outputs": [
        {
          "output_type": "execute_result",
          "data": {
            "text/plain": [
              "array([1])"
            ]
          },
          "metadata": {},
          "execution_count": 26
        }
      ]
    },
    {
      "cell_type": "code",
      "source": [
        "sns.set_theme(style=\"white\", context=\"talk\")\n",
        "rs = np.random.RandomState(8)\n",
        "\n",
        "# Set up the matplotlib figure\n",
        "f, (ax1) = plt.subplots(1, 1, figsize=(5, 5), sharex=True)\n",
        "\n",
        "# Generate some sequential data\n",
        "x = np.array(list(df_dataset['Diagnóstico'].value_counts().keys()))\n",
        "y1 = np.arange(1, 3)\n",
        "sns.barplot(x=x, y=y1, palette=\"rocket\", ax=ax1)\n",
        "ax1.axhline(0, color=\"k\", clip_on=False)\n",
        "ax1.set_ylabel(\"Quantidade\")\n",
        "\n",
        "# Finalize the plot\n",
        "sns.despine(bottom=True)\n",
        "plt.setp(f.axes, yticks=[])\n",
        "plt.tight_layout(h_pad=2)"
      ],
      "metadata": {
        "id": "OYv4eu3_A0-p",
        "outputId": "44618aef-a30e-4da6-f6d1-1ec6cd97301d",
        "colab": {
          "base_uri": "https://localhost:8080/",
          "height": 483
        }
      },
      "execution_count": 34,
      "outputs": [
        {
          "output_type": "display_data",
          "data": {
            "text/plain": [
              "<Figure size 500x500 with 1 Axes>"
            ],
            "image/png": "[encoded data removed]"
          },
          "metadata": {}
        }
      ]
    },
    {
      "cell_type": "markdown",
      "metadata": {
        "id": "6f-FfkeD_fBx"
      },
      "source": [
        "---\n",
        "## Considerações finais:\n",
        "\n",
        "Antes de aplicar algoritmos de AM a um conjunto de dados, é importante que os dados sejam analisados. Essa análise, que pode ser realizada por técnicas estatísticas e de visualização, permite uma melhor compreensão da distribuição dos dados e pode dar suporte à escolha de formas de abordar o problema.\n",
        "\n",
        "Foram apresentados conceitos considerados importantes para analisar os principais aspectos de um conjunto de dados. Após uma caracterização dos tipos de dados, foram apresentadas algumas técnicas"
      ]
    }
  ],
  "metadata": {
    "kernelspec": {
      "display_name": "Python 3 (ipykernel)",
      "language": "python",
      "name": "python3"
    },
    "language_info": {
      "codemirror_mode": {
        "name": "ipython",
        "version": 3
      },
      "file_extension": ".py",
      "mimetype": "text/x-python",
      "name": "python",
      "nbconvert_exporter": "python",
      "pygments_lexer": "ipython3",
      "version": "3.9.13"
    },
    "colab": {
      "provenance": []
    }
  },
  "nbformat": 4,
  "nbformat_minor": 0
}
