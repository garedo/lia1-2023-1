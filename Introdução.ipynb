{
  "cells": [
    {
      "cell_type": "markdown",
      "metadata": {
        "id": "view-in-github",
        "colab_type": "text"
      },
      "source": [
        "<a href=\"https://colab.research.google.com/github/garedo/lia1-2023-1/blob/main/Introdu%C3%A7%C3%A3o.ipynb\" target=\"_parent\"><img src=\"https://colab.research.google.com/assets/colab-badge.svg\" alt=\"Open In Colab\"/></a>"
      ]
    },
    {
      "cell_type": "markdown",
      "id": "ef6f97bd",
      "metadata": {
        "id": "ef6f97bd"
      },
      "source": [
        "<hr style=\"height:10px\"> \n",
        " \n",
        "<div class='container2'>\n",
        "\t\t<div>\n",
        "\t\t\t<img src='imagens\\header.png' ALIGN='left' style='width:10em'>\n",
        "\t\t</div>\t\n",
        "\t<div style='padding: 0 7em 2em 12em;'>\n",
        "\t<h1>Laboratório de Inovação e Automação 1 (LIA 1)</h1>\n",
        "\t<div style=\"font-size:12pt;float:left;\"> 2023/1 | 46M34 | Sala 200 CAE</div><br><br>\n",
        "    <div style=\"font-size:12pt;float:left;\"><b>Projetos de Inteligência Artificial</b></div>\n",
        "\t</div>\n",
        "</div>\n",
        "\n",
        "\n",
        " <hr style=\"height:5px\"> \n",
        "\n",
        "    \n",
        "<h2>Introdução ao Ambiente de Projetos</h2>\n",
        "\n",
        "Notebook desenvolvido por: <a href=\"\">Vinicius Gabriel Santos Vidal</a>\n",
        "\n",
        " <hr style=\"height:2px\"> "
      ]
    },
    {
      "cell_type": "code",
      "execution_count": null,
      "id": "281baf3b",
      "metadata": {
        "id": "281baf3b",
        "outputId": "e9c80f8e-0bcd-4e7a-d613-ad2371a7d2f7"
      },
      "outputs": [
        {
          "name": "stdout",
          "output_type": "stream",
          "text": [
            "3.11.2\n"
          ]
        }
      ],
      "source": [
        "from platform import python_version\n",
        "print(f'{python_version()}')"
      ]
    },
    {
      "cell_type": "markdown",
      "id": "ed0f10e4",
      "metadata": {
        "id": "ed0f10e4"
      },
      "source": [
        "<h3>Operador Aritméticos</h3>"
      ]
    },
    {
      "cell_type": "code",
      "execution_count": null,
      "id": "ca01e19d",
      "metadata": {
        "id": "ca01e19d",
        "outputId": "f3217517-5d87-477b-f14a-cecfd5bbe25f"
      },
      "outputs": [
        {
          "data": {
            "text/plain": [
              "2"
            ]
          },
          "execution_count": 13,
          "metadata": {},
          "output_type": "execute_result"
        }
      ],
      "source": [
        "1+1"
      ]
    },
    {
      "cell_type": "code",
      "execution_count": null,
      "id": "c2aff6fb",
      "metadata": {
        "id": "c2aff6fb",
        "outputId": "3f8df6fa-d7bc-4362-86c7-a5d07cd97912"
      },
      "outputs": [
        {
          "data": {
            "text/plain": [
              "1"
            ]
          },
          "execution_count": 14,
          "metadata": {},
          "output_type": "execute_result"
        }
      ],
      "source": [
        "2-1"
      ]
    },
    {
      "cell_type": "code",
      "execution_count": null,
      "id": "46a36bf3",
      "metadata": {
        "id": "46a36bf3",
        "outputId": "c8f5dc58-2b64-4c5d-f36e-575ebfeeb245"
      },
      "outputs": [
        {
          "data": {
            "text/plain": [
              "4"
            ]
          },
          "execution_count": 15,
          "metadata": {},
          "output_type": "execute_result"
        }
      ],
      "source": [
        "2*2"
      ]
    },
    {
      "cell_type": "code",
      "execution_count": null,
      "id": "e8b47431",
      "metadata": {
        "id": "e8b47431",
        "outputId": "363b3784-2ec9-4104-e58e-1b8bfcb0089a"
      },
      "outputs": [
        {
          "data": {
            "text/plain": [
              "1.5"
            ]
          },
          "execution_count": 16,
          "metadata": {},
          "output_type": "execute_result"
        }
      ],
      "source": [
        "3/2"
      ]
    },
    {
      "cell_type": "code",
      "execution_count": null,
      "id": "e898c647",
      "metadata": {
        "id": "e898c647",
        "outputId": "fe19eb8f-6af5-40a4-d660-b06989e697e2"
      },
      "outputs": [
        {
          "data": {
            "text/plain": [
              "1"
            ]
          },
          "execution_count": 17,
          "metadata": {},
          "output_type": "execute_result"
        }
      ],
      "source": [
        "3//2"
      ]
    },
    {
      "cell_type": "code",
      "execution_count": null,
      "id": "d7f2fbf0",
      "metadata": {
        "id": "d7f2fbf0",
        "outputId": "87683d60-e870-495e-e328-332674a961cc"
      },
      "outputs": [
        {
          "data": {
            "text/plain": [
              "16"
            ]
          },
          "execution_count": 18,
          "metadata": {},
          "output_type": "execute_result"
        }
      ],
      "source": [
        "4**2"
      ]
    },
    {
      "cell_type": "code",
      "execution_count": null,
      "id": "e41a27db",
      "metadata": {
        "id": "e41a27db",
        "outputId": "dec301cb-bd37-429e-b0e6-14e5172b611b"
      },
      "outputs": [
        {
          "data": {
            "text/plain": [
              "1"
            ]
          },
          "execution_count": 19,
          "metadata": {},
          "output_type": "execute_result"
        }
      ],
      "source": [
        "10%3"
      ]
    },
    {
      "cell_type": "markdown",
      "id": "2fcedc2f",
      "metadata": {
        "id": "2fcedc2f"
      },
      "source": [
        "<h3>Tipos de Dados (Type)</h3>"
      ]
    },
    {
      "cell_type": "code",
      "execution_count": null,
      "id": "c438debe",
      "metadata": {
        "id": "c438debe",
        "outputId": "369e7309-c2e4-49eb-fa46-969dcaa4698e"
      },
      "outputs": [
        {
          "data": {
            "text/plain": [
              "float"
            ]
          },
          "execution_count": 20,
          "metadata": {},
          "output_type": "execute_result"
        }
      ],
      "source": [
        "type(3/2)"
      ]
    },
    {
      "cell_type": "code",
      "execution_count": null,
      "id": "a1dd1f45",
      "metadata": {
        "id": "a1dd1f45",
        "outputId": "f978e60e-c64a-447f-f652-780b82248b10"
      },
      "outputs": [
        {
          "data": {
            "text/plain": [
              "int"
            ]
          },
          "execution_count": 21,
          "metadata": {},
          "output_type": "execute_result"
        }
      ],
      "source": [
        "type(3//2)"
      ]
    },
    {
      "cell_type": "code",
      "execution_count": null,
      "id": "ff1f9e61",
      "metadata": {
        "id": "ff1f9e61",
        "outputId": "ff4c0c0b-bac9-490c-9473-226dee17048c"
      },
      "outputs": [
        {
          "data": {
            "text/plain": [
              "str"
            ]
          },
          "execution_count": 23,
          "metadata": {},
          "output_type": "execute_result"
        }
      ],
      "source": [
        "a = 'String muito doida'\n",
        "type(a)"
      ]
    },
    {
      "cell_type": "code",
      "execution_count": null,
      "id": "b3aa6ef3",
      "metadata": {
        "id": "b3aa6ef3",
        "outputId": "f8ffc191-bc94-4ef1-d9ba-ab502efd606c"
      },
      "outputs": [
        {
          "data": {
            "text/plain": [
              "list"
            ]
          },
          "execution_count": 38,
          "metadata": {},
          "output_type": "execute_result"
        }
      ],
      "source": [
        "b = [1,2,3,4]\n",
        "type(b)"
      ]
    },
    {
      "cell_type": "code",
      "execution_count": null,
      "id": "6b9655e2",
      "metadata": {
        "id": "6b9655e2",
        "outputId": "628c8d77-1668-49a5-e9b0-ae62cc581e2f"
      },
      "outputs": [
        {
          "data": {
            "text/plain": [
              "dict"
            ]
          },
          "execution_count": 25,
          "metadata": {},
          "output_type": "execute_result"
        }
      ],
      "source": [
        "c = {'um':1, 'dois':2}\n",
        "type(c)"
      ]
    },
    {
      "cell_type": "code",
      "execution_count": null,
      "id": "02e7e589",
      "metadata": {
        "id": "02e7e589",
        "outputId": "821369e5-92d9-4d5a-de13-fd42c9d4d9d3"
      },
      "outputs": [
        {
          "data": {
            "text/plain": [
              "['um', 'dois']"
            ]
          },
          "execution_count": 31,
          "metadata": {},
          "output_type": "execute_result"
        }
      ],
      "source": [
        "list(c.keys())"
      ]
    },
    {
      "cell_type": "code",
      "execution_count": null,
      "id": "f2b9b485",
      "metadata": {
        "id": "f2b9b485",
        "outputId": "94fe562e-6417-4287-a5b4-7d0ab97bbcf8"
      },
      "outputs": [
        {
          "data": {
            "text/plain": [
              "tuple"
            ]
          },
          "execution_count": 32,
          "metadata": {},
          "output_type": "execute_result"
        }
      ],
      "source": [
        "d = (1,'blablabla')\n",
        "type(d)"
      ]
    },
    {
      "cell_type": "markdown",
      "id": "c43413b7",
      "metadata": {
        "id": "c43413b7"
      },
      "source": [
        "<h3>Conditional if</h3>"
      ]
    },
    {
      "cell_type": "code",
      "execution_count": null,
      "id": "6775fe26",
      "metadata": {
        "id": "6775fe26",
        "outputId": "bde2f974-70e8-44c1-e484-2052bee5bedb"
      },
      "outputs": [
        {
          "name": "stdout",
          "output_type": "stream",
          "text": [
            "Nice\n"
          ]
        }
      ],
      "source": [
        "if 5 > 2:\n",
        "    print('Nice')"
      ]
    },
    {
      "cell_type": "code",
      "execution_count": null,
      "id": "0b4b5b36",
      "metadata": {
        "id": "0b4b5b36",
        "outputId": "56409e22-2705-4f11-ab2c-2786abbf8603"
      },
      "outputs": [
        {
          "name": "stdout",
          "output_type": "stream",
          "text": [
            "Aqui vai\n"
          ]
        }
      ],
      "source": [
        "if 5 < 2:\n",
        "    print('Nem vai entrar aqui')\n",
        "else:\n",
        "    print('Aqui vai')"
      ]
    },
    {
      "cell_type": "markdown",
      "id": "fdf52957",
      "metadata": {
        "id": "fdf52957"
      },
      "source": [
        "<h3>Arquivos</h3>"
      ]
    },
    {
      "cell_type": "code",
      "execution_count": null,
      "id": "55c19893",
      "metadata": {
        "id": "55c19893"
      },
      "outputs": [],
      "source": [
        "f = open('arquivo.txt', 'r')"
      ]
    },
    {
      "cell_type": "code",
      "execution_count": null,
      "id": "125e7377",
      "metadata": {
        "id": "125e7377",
        "outputId": "481e7ef2-a10e-4ca6-a8be-cb12eae3dff3"
      },
      "outputs": [
        {
          "name": "stdout",
          "output_type": "stream",
          "text": [
            "Muito doido\n"
          ]
        }
      ],
      "source": [
        "print(f.read())"
      ]
    },
    {
      "cell_type": "code",
      "execution_count": null,
      "id": "033ef52f",
      "metadata": {
        "id": "033ef52f",
        "outputId": "a473108d-97af-491c-d079-f58fad7c3ba4"
      },
      "outputs": [
        {
          "data": {
            "text/plain": [
              "16"
            ]
          },
          "execution_count": 59,
          "metadata": {},
          "output_type": "execute_result"
        }
      ],
      "source": [
        "f2 = open('arquivo.txt', 'w')\n",
        "f2.write(\"Mais doido ainda\")"
      ]
    },
    {
      "cell_type": "code",
      "execution_count": null,
      "id": "0e8ace78",
      "metadata": {
        "id": "0e8ace78"
      },
      "outputs": [],
      "source": [
        "f2 = open('arquivo.txt', 'r')"
      ]
    },
    {
      "cell_type": "code",
      "execution_count": null,
      "id": "0f690315",
      "metadata": {
        "id": "0f690315",
        "outputId": "74fc83c2-0a47-4ec8-9e09-e45aa187015b"
      },
      "outputs": [
        {
          "data": {
            "text/plain": [
              "'Mais doido ainda'"
            ]
          },
          "execution_count": 61,
          "metadata": {},
          "output_type": "execute_result"
        }
      ],
      "source": [
        "f2.read()"
      ]
    }
  ],
  "metadata": {
    "kernelspec": {
      "display_name": "Python 3 (ipykernel)",
      "language": "python",
      "name": "python3"
    },
    "language_info": {
      "codemirror_mode": {
        "name": "ipython",
        "version": 3
      },
      "file_extension": ".py",
      "mimetype": "text/x-python",
      "name": "python",
      "nbconvert_exporter": "python",
      "pygments_lexer": "ipython3",
      "version": "3.11.2"
    },
    "colab": {
      "provenance": [],
      "include_colab_link": true
    }
  },
  "nbformat": 4,
  "nbformat_minor": 5
}